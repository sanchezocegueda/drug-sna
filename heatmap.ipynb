{
 "cells": [
  {
   "cell_type": "markdown",
   "metadata": {},
   "source": [
    "# Interactive Opioid Crisis Visualizer"
   ]
  },
  {
   "cell_type": "markdown",
   "metadata": {},
   "source": [
    "### Settings"
   ]
  },
  {
   "cell_type": "markdown",
   "metadata": {},
   "source": [
    "In the cell below, you can choose which drug(s) you want to display data for. \n",
    "\n",
    "You can also choose to enable or disable video exporting of the visualization."
   ]
  },
  {
   "cell_type": "code",
   "execution_count": null,
   "metadata": {},
   "outputs": [],
   "source": [
    "# Select at least one drug to visualize\n",
    "benzos               = False\n",
    "cocaine              = True\n",
    "fentanyl             = True\n",
    "heroin               = True\n",
    "natsemi              = False\n",
    "prescription_opioids = False\n",
    "psychostimulants     = False\n",
    "\n",
    "# Select any start and end year to visualize, between 2011 and 2022\n",
    "start_year           = 2011\n",
    "end_year             = 2022\n",
    "    \n",
    "# Options for exporting visualizations\n",
    "title                = 'OpioidDeaths' # Replace with your own\n",
    "export_video         = True           # Enable if you want a .mp4 video of the visualization\n",
    "dpi                  = 600\n",
    "export_images        = True           # Enable if you want each of the images exported as a .jpg file."
   ]
  },
  {
   "cell_type": "markdown",
   "metadata": {},
   "source": [
    "### Setup"
   ]
  },
  {
   "cell_type": "code",
   "execution_count": null,
   "metadata": {},
   "outputs": [],
   "source": [
    "import numpy as np\n",
    "import pandas as pd\n",
    "import matplotlib.pyplot as plt\n",
    "from skimage import io, filters, morphology\n",
    "from skimage.color import label2rgb\n",
    "from skimage.color import rgb2gray, gray2rgb\n",
    "from skimage import measure\n",
    "from utils/ import *\n",
    "from matplotlib.animation import FFMpegWriter\n",
    "# plt.rcParams['animation.ffmpeg_path'] ='C:\\\\ffmpeg\\\\bin\\\\ffmpeg.exe' # I need this for FFMPEG to run on my machine\n",
    "%matplotlib qt\n",
    "%config InlineBackend.figure_format = 'retina'"
   ]
  },
  {
   "cell_type": "code",
   "execution_count": null,
   "metadata": {},
   "outputs": [],
   "source": [
    "# Some checks to make sure data works\n",
    "\n",
    "assert start_year <= end_year, \"Please select a valid range.\"\n",
    "assert start_year >= 2011, \"Please select a starting year between 2011 and 2022.\"\n",
    "assert end_year   <= 2022, \"Please select an ending year between 2011 and 2022.\"\n",
    "\n",
    "options = [benzos, cocaine, fentanyl, heroin, natsemi, prescription_opioids, psychostimulants]\n",
    "choices = [1 if choice else 0 for choice in options]\n",
    "assert any(options), \"Please select at least one drug to visualize.\""
   ]
  },
  {
   "cell_type": "code",
   "execution_count": null,
   "metadata": {},
   "outputs": [],
   "source": [
    "# Strings\n",
    "\n",
    "all_names = [\"Benzodiazepines\", \"Cocaine\", \"Fentanyl\", \"Heroin\", \"Natural or Semi-Synthetic Opioids\", \"Prescription Opioids\", \"Psychostimulants\"]\n",
    "names = []\n",
    "for i in range(len(options)):\n",
    "    if options[i]:\n",
    "        names.append(all_names[i])\n",
    "\n",
    "n_choices = len(names)\n",
    "\n",
    "selected_names = \"\"\n",
    "\n",
    "if n_choices > 1:\n",
    "    for i in range(n_choices-1):\n",
    "        selected_names += names[i] + \", \"\n",
    "\n",
    "selected_names += names[n_choices-1]\n",
    "\n",
    "title_mp4 = title + \".mp4\""
   ]
  },
  {
   "cell_type": "code",
   "execution_count": null,
   "metadata": {},
   "outputs": [],
   "source": [
    "# Read in data from csv files\n",
    "benzos_df = pd.read_csv('./data/benzos.csv')\n",
    "cocaine_df = pd.read_csv('./data/cocaine.csv')\n",
    "fentanyl_df = pd.read_csv('./data/fentanyl.csv')\n",
    "heroin_df = pd.read_csv('./data/heroin.csv')\n",
    "natsemi_df = pd.read_csv('./data/natsemi.csv')\n",
    "prescription_df = pd.read_csv('./data/prescription.csv')\n",
    "psychostimulant_df = pd.read_csv('./data/psychostimulant.csv')\n",
    "\n",
    "all_dataframes = [benzos_df, cocaine_df, fentanyl_df, heroin_df, natsemi_df, prescription_df, psychostimulant_df]\n",
    "dataframes = []\n",
    "for i in range(len(options)):\n",
    "    if options[i]:\n",
    "        dataframes.append(all_dataframes[i])"
   ]
  },
  {
   "cell_type": "markdown",
   "metadata": {},
   "source": [
    "### Heat Map Visualization"
   ]
  },
  {
   "cell_type": "markdown",
   "metadata": {},
   "source": [
    "In this section, we turn an image of Alameda County, divided by zip codes, into a heat map displaying the death rates of the chosen drugs."
   ]
  },
  {
   "cell_type": "code",
   "execution_count": null,
   "metadata": {},
   "outputs": [],
   "source": [
    "alameda = io.imread('./data/better_alameda.jpg')\n",
    "gray_alameda = rgb2gray(alameda)\n",
    "fig, ax = plt.subplots(1, 1, figsize=(15, 15))\n",
    "plt.axis=('off')\n",
    "plt.imshow(alameda, cmap='gray')\n",
    "plt.show()\n",
    "\n",
    "print(\"Original image, for reference.\")"
   ]
  },
  {
   "cell_type": "code",
   "execution_count": null,
   "metadata": {},
   "outputs": [],
   "source": [
    "# Define the percentage thresholds\n",
    "percent1 = 30\n",
    "val1 = gray_alameda.max() * percent1 * 0.01\n",
    "percent2 = 60\n",
    "val2 = gray_alameda.max() * percent2 * 0.01\n",
    "\n",
    "# Create a binary mask based on the thresholds\n",
    "alameda_bw = (gray_alameda > val1) & (gray_alameda < val2)\n",
    "\n",
    "# Perform binary erosion to remove small specks\n",
    "alameda_bw_eroded = morphology.binary_erosion(alameda_bw, morphology.disk(2.5))\n",
    "\n",
    "\n",
    "# Plot the results\n",
    "fig, ax = plt.subplots(1, 1, figsize=(10, 10))\n",
    "ax.set_axis_off()\n",
    "plt.imshow(alameda_bw_eroded, cmap='gray')\n",
    "plt.show()\n",
    "\n",
    "print(\"Enhanced black and white image with smoothed edges\")\n"
   ]
  },
  {
   "cell_type": "code",
   "execution_count": null,
   "metadata": {},
   "outputs": [],
   "source": [
    "\n",
    "labels = measure.label(alameda_bw_eroded)\n",
    "\n",
    "props = measure.regionprops(labels)\n",
    "\n",
    "print(f\"Originally detecting {len(np.unique(labels))} zip codes.\")\n",
    "\n"
   ]
  },
  {
   "cell_type": "code",
   "execution_count": null,
   "metadata": {},
   "outputs": [],
   "source": [
    "overlay = label2rgb(labels, image=alameda_bw_eroded)\n",
    "\n",
    "fig, ax = plt.subplots(1, 1, figsize=(15, 15))\n",
    "plt.axis=('off')\n",
    "plt.imshow(overlay)\n",
    "plt.show()"
   ]
  },
  {
   "cell_type": "code",
   "execution_count": null,
   "metadata": {},
   "outputs": [],
   "source": [
    "# This is just a mapping of each component of the image to its corresponding zip code\n",
    "# Feel free to ignore\n",
    "areas_map = [\n",
    "    94708,\n",
    "    94707,\n",
    "    94706,\n",
    "    94706,\n",
    "    94710,\n",
    "    94709,\n",
    "    94703,\n",
    "    94720,\n",
    "    94702,\n",
    "    94702,\n",
    "    94704,\n",
    "    94705,\n",
    "    94705,\n",
    "    94618,\n",
    "    94611,\n",
    "    94609,\n",
    "    94511,\n",
    "    94608,\n",
    "    94607,\n",
    "    94588,\n",
    "    94610,\n",
    "    94602,\n",
    "    94612,\n",
    "    94546,\n",
    "    94546,\n",
    "    94546,\n",
    "    94606,\n",
    "    94619,\n",
    "    94552,\n",
    "    94501,\n",
    "    94601,\n",
    "    94613,\n",
    "    94605,\n",
    "    94621,\n",
    "    94621,\n",
    "    94603,\n",
    "    94502,\n",
    "    94550,\n",
    "    94557,\n",
    "    94568,\n",
    "    94578,\n",
    "    94579,\n",
    "    94580,\n",
    "    94550,\n",
    "    94541,\n",
    "    94566,\n",
    "    94542,\n",
    "    94544,\n",
    "    94545,\n",
    "    94586,\n",
    "    94587,\n",
    "    94536,\n",
    "    94539,\n",
    "    94555,\n",
    "    94538,\n",
    "    94560,\n",
    "    94560,\n",
    "    94560,\n",
    "]\n",
    "\n",
    "# Unfortunately, this had to be done manually"
   ]
  },
  {
   "cell_type": "markdown",
   "metadata": {},
   "source": [
    "#### Heat map"
   ]
  },
  {
   "cell_type": "code",
   "execution_count": null,
   "metadata": {},
   "outputs": [],
   "source": [
    "# Task: display overdose data on the map as if it were a heat map\n",
    "img = np.zeros(alameda_bw_eroded.shape, dtype=float)\n",
    "years = range(start_year, end_year + 1) # Display all years from\n",
    "colormap = 'hot'\n",
    "\n",
    "fig = plt.figure()\n",
    "\n",
    "if export_video:\n",
    "    # Video setup\n",
    "    metadata = dict(title='Overdoses', artist='Alex Sanchez', comment='Xylazine is coming.')\n",
    "    writer = FFMpegWriter(fps=15, metadata=metadata)\n",
    "    with writer.saving(fig, f\"./out/{title_mp4}\", dpi=dpi):\n",
    "        for year in years:\n",
    "            for i in range(len(props)):\n",
    "                area = props[i]\n",
    "                zip_code = areas_map[i]\n",
    "                death_rate = 1\n",
    "                for df in dataframes:\n",
    "                    df_death_rate = df.loc[(df['Year'] == year) & (df['Zip Code'] == zip_code), 'Age-Adjusted Rate']\n",
    "                    # Check if any values are present\n",
    "                    if not df_death_rate.empty:\n",
    "                        df_death_rate = df_death_rate.values[0]\n",
    "                    else:\n",
    "                        df_death_rate = 0.0\n",
    "                    death_rate += df_death_rate\n",
    "                \n",
    "                x1, y1, x2, y2 = area.bbox\n",
    "                img[x1:x2, y1:y2] += area.image * (death_rate)\n",
    "\n",
    "            \n",
    "            plt.clf()\n",
    "            plt.title(f'Overdose Heatmap - Year {year} - {selected_names}')\n",
    "            plt.imshow(img, cmap=colormap)\n",
    "            cbar = plt.colorbar()\n",
    "            cbar.set_label('Death Rate')  # Set your desired label here\n",
    "            plt.show()\n",
    "            plt.draw()\n",
    "            plt.pause(0.5)\n",
    "            writer.grab_frame()\n",
    "            if (export_images):        \n",
    "                plt.savefig(f\"./out/{title}_{year}.jpg\", format='jpg', transparent=True, dpi=dpi)\n",
    "\n",
    "else:\n",
    "    for year in years:\n",
    "        for i in range(len(props)):\n",
    "            area = props[i]\n",
    "            zip_code = areas_map[i]\n",
    "            death_rate = 1\n",
    "            for df in dataframes:\n",
    "                df_death_rate = df.loc[(df['Year'] == year) & (df['Zip Code'] == zip_code), 'Age-Adjusted Rate']\n",
    "                # Check if any values are present\n",
    "                if not df_death_rate.empty:\n",
    "                    df_death_rate = df_death_rate.values[0]\n",
    "                else:\n",
    "                    df_death_rate = 0.0\n",
    "                death_rate += df_death_rate\n",
    "            \n",
    "            x1, y1, x2, y2 = area.bbox\n",
    "            img[x1:x2, y1:y2] += area.image * (death_rate)\n",
    "\n",
    "        \n",
    "        plt.clf()\n",
    "        plt.title(f'Overdose Heatmap - Year {year} - {selected_names}')\n",
    "        plt.imshow(img, cmap=colormap)\n",
    "        cbar = plt.colorbar()\n",
    "        cbar.set_label('Death Rate')  # Set your desired label here\n",
    "        plt.show()\n",
    "        if (export_images):        \n",
    "            plt.savefig(f\"./out/{title}_{year}.jpg\", format='jpg', transparent=True, dpi=dpi)\n",
    "\n",
    "\n"
   ]
  }
 ],
 "metadata": {
  "kernelspec": {
   "display_name": "Python 3",
   "language": "python",
   "name": "python3"
  },
  "language_info": {
   "codemirror_mode": {
    "name": "ipython",
    "version": 3
   },
   "file_extension": ".py",
   "mimetype": "text/x-python",
   "name": "python",
   "nbconvert_exporter": "python",
   "pygments_lexer": "ipython3",
   "version": "3.8.10"
  }
 },
 "nbformat": 4,
 "nbformat_minor": 2
}
